{
 "cells": [
  {
   "cell_type": "markdown",
   "id": "fe43a1ec8203cfdf",
   "metadata": {},
   "source": [
    "# Volcado Tabular de Vencimientos Explained con Otros Campos"
   ]
  },
  {
   "cell_type": "code",
   "execution_count": 77,
   "id": "initial_id",
   "metadata": {
    "ExecuteTime": {
     "end_time": "2025-06-11T15:56:28.154767Z",
     "start_time": "2025-06-11T15:56:28.152440Z"
    },
    "collapsed": true
   },
   "outputs": [],
   "source": [
    "from datetime import date\n",
    "import pandas as pd\n",
    "import requests"
   ]
  },
  {
   "cell_type": "markdown",
   "id": "82d378f06b0ba19e",
   "metadata": {},
   "source": [
    "## Rutas"
   ]
  },
  {
   "cell_type": "code",
   "execution_count": 78,
   "id": "5ac0f2b416c9f286",
   "metadata": {
    "ExecuteTime": {
     "end_time": "2025-06-11T15:56:28.164989Z",
     "start_time": "2025-06-11T15:56:28.163341Z"
    }
   },
   "outputs": [],
   "source": [
    "rutas = {\n",
    "    \"explained\": \"https://ms-tesoreria-analytics-staging.interconecta2.cl/v1/settlements/swaps/explained\",\n",
    "    \"headers\": \"https://ms-tesoreria-analytics-staging.interconecta2.cl/operations/all\",\n",
    "}"
   ]
  },
  {
   "cell_type": "markdown",
   "id": "1bd098a1d54930e1",
   "metadata": {},
   "source": [
    "## SDK"
   ]
  },
  {
   "cell_type": "markdown",
   "id": "32c619cc3af3177c",
   "metadata": {},
   "source": [
    "Estas son funciones que utilizan los endpoints adecuados para obtener la data necesaria para el volcado."
   ]
  },
  {
   "cell_type": "code",
   "execution_count": 79,
   "id": "5abe15dcb3338dd9",
   "metadata": {
    "ExecuteTime": {
     "end_time": "2025-06-11T15:56:28.176745Z",
     "start_time": "2025-06-11T15:56:28.174641Z"
    }
   },
   "outputs": [],
   "source": [
    "def get_explained(fecha: date, ruta: str):\n",
    "    result = requests.get(f\"{ruta}/{fecha}\")\n",
    "    if result.status_code == 200:\n",
    "        return result.json()\n",
    "    else:\n",
    "        return result.status_code"
   ]
  },
  {
   "cell_type": "code",
   "execution_count": 80,
   "id": "c63b20b0cc650dac",
   "metadata": {
    "ExecuteTime": {
     "end_time": "2025-06-11T15:56:28.190264Z",
     "start_time": "2025-06-11T15:56:28.188476Z"
    }
   },
   "outputs": [],
   "source": [
    "def get_headers(ruta: str):\n",
    "    result = requests.get(ruta)\n",
    "    if result.status_code == 200:\n",
    "        return result.json()\n",
    "    else:\n",
    "        return result.status_code"
   ]
  },
  {
   "cell_type": "markdown",
   "id": "e8351853586b1a18",
   "metadata": {},
   "source": [
    "## Procedimiento"
   ]
  },
  {
   "cell_type": "markdown",
   "id": "ce8db22f7e7acfb9",
   "metadata": {},
   "source": [
    "Se define la fecha de proceso."
   ]
  },
  {
   "cell_type": "code",
   "execution_count": 81,
   "id": "9c122cba0d4cd718",
   "metadata": {
    "ExecuteTime": {
     "end_time": "2025-06-11T15:56:28.204072Z",
     "start_time": "2025-06-11T15:56:28.202282Z"
    }
   },
   "outputs": [],
   "source": [
    "fecha_proceso = date(2025, 7, 4)\n",
    "f_proc = fecha_proceso.isoformat().replace(\"-\", \"\")"
   ]
  },
  {
   "cell_type": "markdown",
   "id": "b23a933ab527b1ff",
   "metadata": {},
   "source": [
    "Se obtienen los explained a fecha de proceso."
   ]
  },
  {
   "cell_type": "code",
   "execution_count": 82,
   "id": "480b1e0d768009be",
   "metadata": {
    "ExecuteTime": {
     "end_time": "2025-06-11T15:56:28.590313Z",
     "start_time": "2025-06-11T15:56:28.215359Z"
    }
   },
   "outputs": [],
   "source": [
    "explained = get_explained(fecha_proceso, rutas[\"explained\"])"
   ]
  },
  {
   "cell_type": "markdown",
   "id": "b39aca5f3e1c6369",
   "metadata": {},
   "source": [
    "Se obtienen los encabezados de la cartera vigente."
   ]
  },
  {
   "cell_type": "code",
   "execution_count": 83,
   "id": "43bb97db20882259",
   "metadata": {
    "ExecuteTime": {
     "end_time": "2025-06-11T15:56:30.340215Z",
     "start_time": "2025-06-11T15:56:28.600477Z"
    }
   },
   "outputs": [],
   "source": [
    "headers = get_headers(rutas[\"headers\"])"
   ]
  },
  {
   "cell_type": "markdown",
   "id": "12210a28",
   "metadata": {},
   "source": []
  },
  {
   "cell_type": "markdown",
   "id": "96d9e2835afe8b",
   "metadata": {},
   "source": [
    "Vemos un registro de los explained."
   ]
  },
  {
   "cell_type": "code",
   "execution_count": 84,
   "id": "cdb97438c964ebd6",
   "metadata": {
    "ExecuteTime": {
     "end_time": "2025-06-11T15:56:30.351702Z",
     "start_time": "2025-06-11T15:56:30.347881Z"
    }
   },
   "outputs": [
    {
     "data": {
      "text/plain": [
       "{'dealNumber': '2256',\n",
       " 'legNumber': 1,\n",
       " 'tipoPata': 'OVERNIGHT_INDEX',\n",
       " 'recPay': 'A',\n",
       " 'fechaInicial': '2025-01-06',\n",
       " 'fechaFinal': '2025-07-04',\n",
       " 'fechaInicialIndice': '2025-01-06',\n",
       " 'fechaFinalIndice': '2025-07-04',\n",
       " 'fechaPago': '2025-07-04',\n",
       " 'nocional': 3000000000.0,\n",
       " 'amortizacion': 0.0,\n",
       " 'amortEsFlujo': True,\n",
       " 'monedaNocional': 'CLP',\n",
       " 'nombreIndice': 'ICPCLP',\n",
       " 'valorIndiceInicial': 24801.68,\n",
       " 'valorIndiceFinal': 25425.95,\n",
       " 'valorTasa': 0.0506,\n",
       " 'tipoTasa': 'LinAct360',\n",
       " 'interes': 75478333.0,\n",
       " 'flujo': 75478333.0,\n",
       " 'spread': 0.0,\n",
       " 'gearing': 1.0,\n",
       " 'numDecimalesTasaEquivalente': 4,\n",
       " 'fraccionAgno': '(fechaFinal - fechaInicial) / 360',\n",
       " 'formulaValorTasaEquivalente': 'round((valorIndiceFinal / valorIndiceInicial - 1) * 1 / fraccionAgno, numDecimalesTasaEquivalente)',\n",
       " 'formulaInteres': 'nocional * (formulaValorTasaEquivalente + spread) * fraccionAgno'}"
      ]
     },
     "execution_count": 84,
     "metadata": {},
     "output_type": "execute_result"
    }
   ],
   "source": [
    "explained[0]"
   ]
  },
  {
   "cell_type": "markdown",
   "id": "699249c9b07808fe",
   "metadata": {},
   "source": [
    "Se observa que no tiene los campos de portfolio (gestión o contable) ni la estrategia contable. Se los agregamos con la data de los headers."
   ]
  },
  {
   "cell_type": "code",
   "execution_count": 85,
   "id": "d985f7c62681c6cc",
   "metadata": {
    "ExecuteTime": {
     "end_time": "2025-06-11T15:56:30.364842Z",
     "start_time": "2025-06-11T15:56:30.361893Z"
    }
   },
   "outputs": [],
   "source": [
    "df_explained = pd.DataFrame.from_dict(explained)"
   ]
  },
  {
   "cell_type": "markdown",
   "id": "19ff96b9fcf88910",
   "metadata": {},
   "source": [
    "Vemos la estructura de un header."
   ]
  },
  {
   "cell_type": "code",
   "execution_count": 86,
   "id": "d15373a6b0b05499",
   "metadata": {
    "ExecuteTime": {
     "end_time": "2025-06-11T15:56:30.387175Z",
     "start_time": "2025-06-11T15:56:30.384735Z"
    }
   },
   "outputs": [
    {
     "data": {
      "text/plain": [
       "{'trade_date': {'fecha': '2022-11-29'},\n",
       " 'deal_number': '5000',\n",
       " 'counterparty': {'name': 'BANCO SANTANDER-SANTIAGO',\n",
       "  'rut': {'rut': 97036000, 'dv': 'K'},\n",
       "  'other': None},\n",
       " 'portfolio': 'BANCA',\n",
       " 'hedge_accounting': 'COB_TASA_INT_ACTIVOS',\n",
       " 'product': 'SWAP_MONE',\n",
       " 'currency_pair': 'CLFCLP',\n",
       " 'price': None,\n",
       " 'settlement_mechanism': 'C',\n",
       " 'other': {'regulatory_portfolio': 'COBERTURA_VALOR_RAZONABLE'}}"
      ]
     },
     "execution_count": 86,
     "metadata": {},
     "output_type": "execute_result"
    }
   ],
   "source": [
    "headers[\"5000\"]"
   ]
  },
  {
   "cell_type": "code",
   "execution_count": 87,
   "id": "9133fb6c41c6cd64",
   "metadata": {
    "ExecuteTime": {
     "end_time": "2025-06-11T15:56:30.402717Z",
     "start_time": "2025-06-11T15:56:30.400106Z"
    }
   },
   "outputs": [],
   "source": [
    "def generate_new_columns(row):\n",
    "    # Notar que headers se toma por closure\n",
    "    operacion = headers.get(row.dealNumber)\n",
    "    if operacion is None:\n",
    "        operacion = {\"dummy\": 1}\n",
    "    if operacion.get(\"other\") is None:\n",
    "        regulatory_portfolio = None\n",
    "    else:\n",
    "        regulatory_portfolio = operacion.get(\"other\").get(\"regulatory_portfolio\")\n",
    "    return pd.Series({\n",
    "        'portfolio': operacion.get(\"portfolio\"),\n",
    "        'hedgeAccounting': operacion.get(\"hedge_accounting\"),\n",
    "        'product': operacion.get(\"product\"),\n",
    "        'settlementMechanism': operacion.get(\"settlement_mechanism\"),\n",
    "        'regulatoryPortfolio': regulatory_portfolio,\n",
    "    })"
   ]
  },
  {
   "cell_type": "code",
   "execution_count": 88,
   "id": "f5c97c03221da507",
   "metadata": {
    "ExecuteTime": {
     "end_time": "2025-06-11T15:56:30.426431Z",
     "start_time": "2025-06-11T15:56:30.416355Z"
    }
   },
   "outputs": [],
   "source": [
    "df_explained_ok = df_explained.join(df_explained.apply(\n",
    "    generate_new_columns,\n",
    "    axis=1,\n",
    "))\n",
    "del df_explained_ok[\"fraccionAgno\"]\n",
    "del df_explained_ok[\"formulaValorTasaEquivalente\"]\n",
    "del df_explained_ok[\"formulaInteres\"]\n",
    "# TRY - EXCEPT\n",
    "#del df_explained_ok[\"formulaInteresMonedaPago\"]\n",
    "#del df_explained_ok[\"formulaAmortizacionMonedaPago\"]"
   ]
  },
  {
   "cell_type": "code",
   "execution_count": 89,
   "id": "56fda8fefef27bd2",
   "metadata": {
    "ExecuteTime": {
     "end_time": "2025-06-11T15:56:30.447642Z",
     "start_time": "2025-06-11T15:56:30.436955Z"
    }
   },
   "outputs": [
    {
     "data": {
      "text/html": [
       "<div>\n",
       "<style scoped>\n",
       "    .dataframe tbody tr th:only-of-type {\n",
       "        vertical-align: middle;\n",
       "    }\n",
       "\n",
       "    .dataframe tbody tr th {\n",
       "        vertical-align: top;\n",
       "    }\n",
       "\n",
       "    .dataframe thead th {\n",
       "        text-align: right;\n",
       "    }\n",
       "</style>\n",
       "<table border=\"1\" class=\"dataframe\">\n",
       "  <thead>\n",
       "    <tr style=\"text-align: right;\">\n",
       "      <th></th>\n",
       "      <th>dealNumber</th>\n",
       "      <th>legNumber</th>\n",
       "      <th>tipoPata</th>\n",
       "      <th>recPay</th>\n",
       "      <th>fechaInicial</th>\n",
       "      <th>fechaFinal</th>\n",
       "      <th>fechaInicialIndice</th>\n",
       "      <th>fechaFinalIndice</th>\n",
       "      <th>fechaPago</th>\n",
       "      <th>nocional</th>\n",
       "      <th>...</th>\n",
       "      <th>interes</th>\n",
       "      <th>flujo</th>\n",
       "      <th>spread</th>\n",
       "      <th>gearing</th>\n",
       "      <th>numDecimalesTasaEquivalente</th>\n",
       "      <th>portfolio</th>\n",
       "      <th>hedgeAccounting</th>\n",
       "      <th>product</th>\n",
       "      <th>settlementMechanism</th>\n",
       "      <th>regulatoryPortfolio</th>\n",
       "    </tr>\n",
       "  </thead>\n",
       "  <tbody>\n",
       "    <tr>\n",
       "      <th>0</th>\n",
       "      <td>2256</td>\n",
       "      <td>1</td>\n",
       "      <td>OVERNIGHT_INDEX</td>\n",
       "      <td>A</td>\n",
       "      <td>2025-01-06</td>\n",
       "      <td>2025-07-04</td>\n",
       "      <td>2025-01-06</td>\n",
       "      <td>2025-07-04</td>\n",
       "      <td>2025-07-04</td>\n",
       "      <td>3.000000e+09</td>\n",
       "      <td>...</td>\n",
       "      <td>7.547833e+07</td>\n",
       "      <td>7.547833e+07</td>\n",
       "      <td>0.0</td>\n",
       "      <td>1.0</td>\n",
       "      <td>4.0</td>\n",
       "      <td>NEGOCIACION</td>\n",
       "      <td>NO</td>\n",
       "      <td>SWAP_ICP</td>\n",
       "      <td>C</td>\n",
       "      <td>NEGOCIACION</td>\n",
       "    </tr>\n",
       "    <tr>\n",
       "      <th>1</th>\n",
       "      <td>2256</td>\n",
       "      <td>2</td>\n",
       "      <td>FIXED_RATE</td>\n",
       "      <td>P</td>\n",
       "      <td>2025-01-06</td>\n",
       "      <td>2025-07-04</td>\n",
       "      <td>NaN</td>\n",
       "      <td>NaN</td>\n",
       "      <td>2025-07-04</td>\n",
       "      <td>-3.000000e+09</td>\n",
       "      <td>...</td>\n",
       "      <td>-6.018875e+07</td>\n",
       "      <td>-6.018875e+07</td>\n",
       "      <td>NaN</td>\n",
       "      <td>NaN</td>\n",
       "      <td>NaN</td>\n",
       "      <td>NEGOCIACION</td>\n",
       "      <td>NO</td>\n",
       "      <td>SWAP_ICP</td>\n",
       "      <td>C</td>\n",
       "      <td>NEGOCIACION</td>\n",
       "    </tr>\n",
       "    <tr>\n",
       "      <th>2</th>\n",
       "      <td>2257</td>\n",
       "      <td>1</td>\n",
       "      <td>FIXED_RATE</td>\n",
       "      <td>A</td>\n",
       "      <td>2025-01-06</td>\n",
       "      <td>2025-07-04</td>\n",
       "      <td>NaN</td>\n",
       "      <td>NaN</td>\n",
       "      <td>2025-07-04</td>\n",
       "      <td>7.800000e+09</td>\n",
       "      <td>...</td>\n",
       "      <td>1.477645e+08</td>\n",
       "      <td>1.477645e+08</td>\n",
       "      <td>NaN</td>\n",
       "      <td>NaN</td>\n",
       "      <td>NaN</td>\n",
       "      <td>NEGOCIACION</td>\n",
       "      <td>NO</td>\n",
       "      <td>SWAP_ICP</td>\n",
       "      <td>C</td>\n",
       "      <td>NEGOCIACION</td>\n",
       "    </tr>\n",
       "    <tr>\n",
       "      <th>3</th>\n",
       "      <td>2257</td>\n",
       "      <td>2</td>\n",
       "      <td>OVERNIGHT_INDEX</td>\n",
       "      <td>P</td>\n",
       "      <td>2025-01-06</td>\n",
       "      <td>2025-07-04</td>\n",
       "      <td>2025-01-06</td>\n",
       "      <td>2025-07-04</td>\n",
       "      <td>2025-07-04</td>\n",
       "      <td>-7.800000e+09</td>\n",
       "      <td>...</td>\n",
       "      <td>-1.962437e+08</td>\n",
       "      <td>-1.962437e+08</td>\n",
       "      <td>0.0</td>\n",
       "      <td>1.0</td>\n",
       "      <td>4.0</td>\n",
       "      <td>NEGOCIACION</td>\n",
       "      <td>NO</td>\n",
       "      <td>SWAP_ICP</td>\n",
       "      <td>C</td>\n",
       "      <td>NEGOCIACION</td>\n",
       "    </tr>\n",
       "    <tr>\n",
       "      <th>4</th>\n",
       "      <td>4685</td>\n",
       "      <td>1</td>\n",
       "      <td>OVERNIGHT_INDEX</td>\n",
       "      <td>A</td>\n",
       "      <td>2025-01-06</td>\n",
       "      <td>2025-07-04</td>\n",
       "      <td>2025-01-06</td>\n",
       "      <td>2025-07-04</td>\n",
       "      <td>2025-07-04</td>\n",
       "      <td>4.300000e+09</td>\n",
       "      <td>...</td>\n",
       "      <td>1.081856e+08</td>\n",
       "      <td>1.081856e+08</td>\n",
       "      <td>0.0</td>\n",
       "      <td>1.0</td>\n",
       "      <td>4.0</td>\n",
       "      <td>SWAP</td>\n",
       "      <td>NO</td>\n",
       "      <td>SWAP_ICP</td>\n",
       "      <td>C</td>\n",
       "      <td>NEGOCIACION</td>\n",
       "    </tr>\n",
       "    <tr>\n",
       "      <th>5</th>\n",
       "      <td>4685</td>\n",
       "      <td>2</td>\n",
       "      <td>FIXED_RATE</td>\n",
       "      <td>P</td>\n",
       "      <td>2025-01-06</td>\n",
       "      <td>2025-07-04</td>\n",
       "      <td>NaN</td>\n",
       "      <td>NaN</td>\n",
       "      <td>2025-07-04</td>\n",
       "      <td>-4.300000e+09</td>\n",
       "      <td>...</td>\n",
       "      <td>-1.452809e+08</td>\n",
       "      <td>-1.452809e+08</td>\n",
       "      <td>NaN</td>\n",
       "      <td>NaN</td>\n",
       "      <td>NaN</td>\n",
       "      <td>SWAP</td>\n",
       "      <td>NO</td>\n",
       "      <td>SWAP_ICP</td>\n",
       "      <td>C</td>\n",
       "      <td>NEGOCIACION</td>\n",
       "    </tr>\n",
       "    <tr>\n",
       "      <th>6</th>\n",
       "      <td>6206</td>\n",
       "      <td>1</td>\n",
       "      <td>OVERNIGHT_INDEX</td>\n",
       "      <td>A</td>\n",
       "      <td>2025-01-06</td>\n",
       "      <td>2025-07-04</td>\n",
       "      <td>2025-01-06</td>\n",
       "      <td>2025-07-04</td>\n",
       "      <td>2025-07-04</td>\n",
       "      <td>9.400000e+09</td>\n",
       "      <td>...</td>\n",
       "      <td>2.364988e+08</td>\n",
       "      <td>2.364988e+08</td>\n",
       "      <td>0.0</td>\n",
       "      <td>1.0</td>\n",
       "      <td>4.0</td>\n",
       "      <td>SWAP</td>\n",
       "      <td>NO</td>\n",
       "      <td>SWAP_ICP</td>\n",
       "      <td>C</td>\n",
       "      <td>NEGOCIACION</td>\n",
       "    </tr>\n",
       "    <tr>\n",
       "      <th>7</th>\n",
       "      <td>6206</td>\n",
       "      <td>2</td>\n",
       "      <td>FIXED_RATE</td>\n",
       "      <td>P</td>\n",
       "      <td>2025-01-06</td>\n",
       "      <td>2025-07-04</td>\n",
       "      <td>NaN</td>\n",
       "      <td>NaN</td>\n",
       "      <td>2025-07-04</td>\n",
       "      <td>-9.400000e+09</td>\n",
       "      <td>...</td>\n",
       "      <td>-2.435096e+08</td>\n",
       "      <td>-2.435096e+08</td>\n",
       "      <td>NaN</td>\n",
       "      <td>NaN</td>\n",
       "      <td>NaN</td>\n",
       "      <td>SWAP</td>\n",
       "      <td>NO</td>\n",
       "      <td>SWAP_ICP</td>\n",
       "      <td>C</td>\n",
       "      <td>NEGOCIACION</td>\n",
       "    </tr>\n",
       "  </tbody>\n",
       "</table>\n",
       "<p>8 rows × 28 columns</p>\n",
       "</div>"
      ],
      "text/plain": [
       "  dealNumber  legNumber         tipoPata recPay fechaInicial  fechaFinal  \\\n",
       "0       2256          1  OVERNIGHT_INDEX      A   2025-01-06  2025-07-04   \n",
       "1       2256          2       FIXED_RATE      P   2025-01-06  2025-07-04   \n",
       "2       2257          1       FIXED_RATE      A   2025-01-06  2025-07-04   \n",
       "3       2257          2  OVERNIGHT_INDEX      P   2025-01-06  2025-07-04   \n",
       "4       4685          1  OVERNIGHT_INDEX      A   2025-01-06  2025-07-04   \n",
       "5       4685          2       FIXED_RATE      P   2025-01-06  2025-07-04   \n",
       "6       6206          1  OVERNIGHT_INDEX      A   2025-01-06  2025-07-04   \n",
       "7       6206          2       FIXED_RATE      P   2025-01-06  2025-07-04   \n",
       "\n",
       "  fechaInicialIndice fechaFinalIndice   fechaPago      nocional  ...  \\\n",
       "0         2025-01-06       2025-07-04  2025-07-04  3.000000e+09  ...   \n",
       "1                NaN              NaN  2025-07-04 -3.000000e+09  ...   \n",
       "2                NaN              NaN  2025-07-04  7.800000e+09  ...   \n",
       "3         2025-01-06       2025-07-04  2025-07-04 -7.800000e+09  ...   \n",
       "4         2025-01-06       2025-07-04  2025-07-04  4.300000e+09  ...   \n",
       "5                NaN              NaN  2025-07-04 -4.300000e+09  ...   \n",
       "6         2025-01-06       2025-07-04  2025-07-04  9.400000e+09  ...   \n",
       "7                NaN              NaN  2025-07-04 -9.400000e+09  ...   \n",
       "\n",
       "        interes         flujo spread gearing  numDecimalesTasaEquivalente  \\\n",
       "0  7.547833e+07  7.547833e+07    0.0     1.0                          4.0   \n",
       "1 -6.018875e+07 -6.018875e+07    NaN     NaN                          NaN   \n",
       "2  1.477645e+08  1.477645e+08    NaN     NaN                          NaN   \n",
       "3 -1.962437e+08 -1.962437e+08    0.0     1.0                          4.0   \n",
       "4  1.081856e+08  1.081856e+08    0.0     1.0                          4.0   \n",
       "5 -1.452809e+08 -1.452809e+08    NaN     NaN                          NaN   \n",
       "6  2.364988e+08  2.364988e+08    0.0     1.0                          4.0   \n",
       "7 -2.435096e+08 -2.435096e+08    NaN     NaN                          NaN   \n",
       "\n",
       "     portfolio  hedgeAccounting   product  settlementMechanism  \\\n",
       "0  NEGOCIACION               NO  SWAP_ICP                    C   \n",
       "1  NEGOCIACION               NO  SWAP_ICP                    C   \n",
       "2  NEGOCIACION               NO  SWAP_ICP                    C   \n",
       "3  NEGOCIACION               NO  SWAP_ICP                    C   \n",
       "4         SWAP               NO  SWAP_ICP                    C   \n",
       "5         SWAP               NO  SWAP_ICP                    C   \n",
       "6         SWAP               NO  SWAP_ICP                    C   \n",
       "7         SWAP               NO  SWAP_ICP                    C   \n",
       "\n",
       "   regulatoryPortfolio  \n",
       "0          NEGOCIACION  \n",
       "1          NEGOCIACION  \n",
       "2          NEGOCIACION  \n",
       "3          NEGOCIACION  \n",
       "4          NEGOCIACION  \n",
       "5          NEGOCIACION  \n",
       "6          NEGOCIACION  \n",
       "7          NEGOCIACION  \n",
       "\n",
       "[8 rows x 28 columns]"
      ]
     },
     "execution_count": 89,
     "metadata": {},
     "output_type": "execute_result"
    }
   ],
   "source": [
    "df_explained_ok"
   ]
  },
  {
   "cell_type": "code",
   "execution_count": null,
   "id": "aa88b359f4bfcad0",
   "metadata": {
    "ExecuteTime": {
     "end_time": "2025-06-11T15:56:30.493141Z",
     "start_time": "2025-06-11T15:56:30.488887Z"
    }
   },
   "outputs": [],
   "source": [
    "df_explained_ok.to_csv(f\"./{f_proc}_explained_plus_plus.csv\")"
   ]
  },
  {
   "cell_type": "markdown",
   "id": "ab48b38a",
   "metadata": {},
   "source": [
    "Ahora vamos a convertir la dataframe en una vista por operación."
   ]
  },
  {
   "cell_type": "code",
   "execution_count": 91,
   "id": "a6c42f53",
   "metadata": {},
   "outputs": [],
   "source": [
    "import numpy as np"
   ]
  },
  {
   "cell_type": "markdown",
   "id": "85cd03ce",
   "metadata": {},
   "source": [
    "Crear una función helper para agregar los datos correctamente"
   ]
  },
  {
   "cell_type": "code",
   "execution_count": 92,
   "id": "08195779",
   "metadata": {},
   "outputs": [],
   "source": [
    "def aggregate_deal_data(group):\n",
    "    \"\"\"\n",
    "    Aggregate deal data from leg-level to deal-level\n",
    "    \"\"\"\n",
    "    # Get deal-level attributes (should be the same for all legs)\n",
    "    deal_attrs = {\n",
    "        'DealNumber': group['dealNumber'].iloc[0],\n",
    "        'product': group['product'].iloc[0],\n",
    "        'fechaFinal': group['fechaFinal'].iloc[0],\n",
    "        'settlementMechanism': group['settlementMechanism'].iloc[0],\n",
    "        'hedgeAccounting': group['hedgeAccounting'].iloc[0],\n",
    "        'regulatoryPortfolio': group['regulatoryPortfolio'].iloc[0]\n",
    "    }\n",
    "    \n",
    "    # Separate active (A) and passive (P) legs\n",
    "    active_legs = group[group['recPay'] == 'A']\n",
    "    passive_legs = group[group['recPay'] == 'P']\n",
    "    \n",
    "    # Process active legs\n",
    "    if len(active_legs) > 0:\n",
    "        deal_attrs['pataActivaAmortizacion'] = active_legs['amortizacion'].sum()\n",
    "        deal_attrs['pataActivaMonedaNocional'] = active_legs['monedaNocional'].iloc[0]  # Assuming same currency for all active legs\n",
    "        # Get fechaPago from lowest legNumber for active legs\n",
    "        deal_attrs['pataActivaFechaPagoAmortizacion'] = active_legs.loc[active_legs['legNumber'].idxmin(), 'fechaPago']\n",
    "        # Sum flujoMonedaPago, handling NaN values\n",
    "        active_flujo_values = active_legs['flujoMonedaPago'].fillna(active_legs['flujo'])\n",
    "        deal_attrs['pataActivaFlujo'] = active_flujo_values.sum() if not active_flujo_values.isna().all() else np.nan\n",
    "    else:\n",
    "        deal_attrs['pataActivaAmortizacion'] = np.nan\n",
    "        deal_attrs['pataActivaMonedaNocional'] = np.nan\n",
    "        deal_attrs['pataActivaFechaPagoAmortizacion'] = np.nan\n",
    "        deal_attrs['pataActivaFlujo'] = np.nan\n",
    "    \n",
    "    # Process passive legs\n",
    "    if len(passive_legs) > 0:\n",
    "        deal_attrs['pataPasivaAmortizacion'] = passive_legs['amortizacion'].sum()\n",
    "        deal_attrs['pataPasivaMonedaNocional'] = passive_legs['monedaNocional'].iloc[0]  # Assuming same currency for all passive legs\n",
    "        # Get fechaPago from lowest legNumber for passive legs\n",
    "        deal_attrs['pataPasivaFechaPagoAmortizacion'] = passive_legs.loc[passive_legs['legNumber'].idxmin(), 'fechaPago']\n",
    "        # Sum flujoMonedaPago, handling NaN values\n",
    "        passive_flujo_values = passive_legs['flujoMonedaPago'].fillna(passive_legs['flujo'])\n",
    "        deal_attrs['pataPasivaFlujo'] = passive_flujo_values.sum() if not passive_flujo_values.isna().all() else np.nan\n",
    "    else:\n",
    "        deal_attrs['pataPasivaAmortizacion'] = np.nan\n",
    "        deal_attrs['pataPasivaMonedaNocional'] = np.nan\n",
    "        deal_attrs['pataPasivaFechaPagoAmortizacion'] = np.nan\n",
    "        deal_attrs['pataPasivaFlujo'] = np.nan\n",
    "    \n",
    "    return pd.Series(deal_attrs)"
   ]
  },
  {
   "cell_type": "markdown",
   "id": "c04db475",
   "metadata": {},
   "source": [
    "Agrupamos por deal number"
   ]
  },
  {
   "cell_type": "code",
   "execution_count": 93,
   "id": "e102a3b1",
   "metadata": {},
   "outputs": [
    {
     "ename": "KeyError",
     "evalue": "'flujoMonedaPago'",
     "output_type": "error",
     "traceback": [
      "\u001b[31m---------------------------------------------------------------------------\u001b[39m",
      "\u001b[31mKeyError\u001b[39m                                  Traceback (most recent call last)",
      "\u001b[36mFile \u001b[39m\u001b[32mc:\\Users\\bencl\\AppData\\Local\\Programs\\Python\\Python311\\Lib\\site-packages\\pandas\\core\\indexes\\base.py:3805\u001b[39m, in \u001b[36mIndex.get_loc\u001b[39m\u001b[34m(self, key)\u001b[39m\n\u001b[32m   3804\u001b[39m \u001b[38;5;28;01mtry\u001b[39;00m:\n\u001b[32m-> \u001b[39m\u001b[32m3805\u001b[39m     \u001b[38;5;28;01mreturn\u001b[39;00m \u001b[38;5;28;43mself\u001b[39;49m\u001b[43m.\u001b[49m\u001b[43m_engine\u001b[49m\u001b[43m.\u001b[49m\u001b[43mget_loc\u001b[49m\u001b[43m(\u001b[49m\u001b[43mcasted_key\u001b[49m\u001b[43m)\u001b[49m\n\u001b[32m   3806\u001b[39m \u001b[38;5;28;01mexcept\u001b[39;00m \u001b[38;5;167;01mKeyError\u001b[39;00m \u001b[38;5;28;01mas\u001b[39;00m err:\n",
      "\u001b[36mFile \u001b[39m\u001b[32mindex.pyx:167\u001b[39m, in \u001b[36mpandas._libs.index.IndexEngine.get_loc\u001b[39m\u001b[34m()\u001b[39m\n",
      "\u001b[36mFile \u001b[39m\u001b[32mindex.pyx:196\u001b[39m, in \u001b[36mpandas._libs.index.IndexEngine.get_loc\u001b[39m\u001b[34m()\u001b[39m\n",
      "\u001b[36mFile \u001b[39m\u001b[32mpandas\\\\_libs\\\\hashtable_class_helper.pxi:7081\u001b[39m, in \u001b[36mpandas._libs.hashtable.PyObjectHashTable.get_item\u001b[39m\u001b[34m()\u001b[39m\n",
      "\u001b[36mFile \u001b[39m\u001b[32mpandas\\\\_libs\\\\hashtable_class_helper.pxi:7089\u001b[39m, in \u001b[36mpandas._libs.hashtable.PyObjectHashTable.get_item\u001b[39m\u001b[34m()\u001b[39m\n",
      "\u001b[31mKeyError\u001b[39m: 'flujoMonedaPago'",
      "\nThe above exception was the direct cause of the following exception:\n",
      "\u001b[31mKeyError\u001b[39m                                  Traceback (most recent call last)",
      "\u001b[36mCell\u001b[39m\u001b[36m \u001b[39m\u001b[32mIn[93]\u001b[39m\u001b[32m, line 1\u001b[39m\n\u001b[32m----> \u001b[39m\u001b[32m1\u001b[39m df_deal_level = \u001b[43mdf_explained_ok\u001b[49m\u001b[43m.\u001b[49m\u001b[43mgroupby\u001b[49m\u001b[43m(\u001b[49m\u001b[33;43m'\u001b[39;49m\u001b[33;43mdealNumber\u001b[39;49m\u001b[33;43m'\u001b[39;49m\u001b[43m)\u001b[49m\u001b[43m.\u001b[49m\u001b[43mapply\u001b[49m\u001b[43m(\u001b[49m\u001b[43maggregate_deal_data\u001b[49m\u001b[43m)\u001b[49m.reset_index(drop=\u001b[38;5;28;01mTrue\u001b[39;00m)\n",
      "\u001b[36mFile \u001b[39m\u001b[32mc:\\Users\\bencl\\AppData\\Local\\Programs\\Python\\Python311\\Lib\\site-packages\\pandas\\core\\groupby\\groupby.py:1824\u001b[39m, in \u001b[36mGroupBy.apply\u001b[39m\u001b[34m(self, func, include_groups, *args, **kwargs)\u001b[39m\n\u001b[32m   1822\u001b[39m \u001b[38;5;28;01mwith\u001b[39;00m option_context(\u001b[33m\"\u001b[39m\u001b[33mmode.chained_assignment\u001b[39m\u001b[33m\"\u001b[39m, \u001b[38;5;28;01mNone\u001b[39;00m):\n\u001b[32m   1823\u001b[39m     \u001b[38;5;28;01mtry\u001b[39;00m:\n\u001b[32m-> \u001b[39m\u001b[32m1824\u001b[39m         result = \u001b[38;5;28;43mself\u001b[39;49m\u001b[43m.\u001b[49m\u001b[43m_python_apply_general\u001b[49m\u001b[43m(\u001b[49m\u001b[43mf\u001b[49m\u001b[43m,\u001b[49m\u001b[43m \u001b[49m\u001b[38;5;28;43mself\u001b[39;49m\u001b[43m.\u001b[49m\u001b[43m_selected_obj\u001b[49m\u001b[43m)\u001b[49m\n\u001b[32m   1825\u001b[39m         \u001b[38;5;28;01mif\u001b[39;00m (\n\u001b[32m   1826\u001b[39m             \u001b[38;5;129;01mnot\u001b[39;00m \u001b[38;5;28misinstance\u001b[39m(\u001b[38;5;28mself\u001b[39m.obj, Series)\n\u001b[32m   1827\u001b[39m             \u001b[38;5;129;01mand\u001b[39;00m \u001b[38;5;28mself\u001b[39m._selection \u001b[38;5;129;01mis\u001b[39;00m \u001b[38;5;28;01mNone\u001b[39;00m\n\u001b[32m   1828\u001b[39m             \u001b[38;5;129;01mand\u001b[39;00m \u001b[38;5;28mself\u001b[39m._selected_obj.shape != \u001b[38;5;28mself\u001b[39m._obj_with_exclusions.shape\n\u001b[32m   1829\u001b[39m         ):\n\u001b[32m   1830\u001b[39m             warnings.warn(\n\u001b[32m   1831\u001b[39m                 message=_apply_groupings_depr.format(\n\u001b[32m   1832\u001b[39m                     \u001b[38;5;28mtype\u001b[39m(\u001b[38;5;28mself\u001b[39m).\u001b[34m__name__\u001b[39m, \u001b[33m\"\u001b[39m\u001b[33mapply\u001b[39m\u001b[33m\"\u001b[39m\n\u001b[32m   (...)\u001b[39m\u001b[32m   1835\u001b[39m                 stacklevel=find_stack_level(),\n\u001b[32m   1836\u001b[39m             )\n",
      "\u001b[36mFile \u001b[39m\u001b[32mc:\\Users\\bencl\\AppData\\Local\\Programs\\Python\\Python311\\Lib\\site-packages\\pandas\\core\\groupby\\groupby.py:1885\u001b[39m, in \u001b[36mGroupBy._python_apply_general\u001b[39m\u001b[34m(self, f, data, not_indexed_same, is_transform, is_agg)\u001b[39m\n\u001b[32m   1850\u001b[39m \u001b[38;5;129m@final\u001b[39m\n\u001b[32m   1851\u001b[39m \u001b[38;5;28;01mdef\u001b[39;00m\u001b[38;5;250m \u001b[39m\u001b[34m_python_apply_general\u001b[39m(\n\u001b[32m   1852\u001b[39m     \u001b[38;5;28mself\u001b[39m,\n\u001b[32m   (...)\u001b[39m\u001b[32m   1857\u001b[39m     is_agg: \u001b[38;5;28mbool\u001b[39m = \u001b[38;5;28;01mFalse\u001b[39;00m,\n\u001b[32m   1858\u001b[39m ) -> NDFrameT:\n\u001b[32m   1859\u001b[39m \u001b[38;5;250m    \u001b[39m\u001b[33;03m\"\"\"\u001b[39;00m\n\u001b[32m   1860\u001b[39m \u001b[33;03m    Apply function f in python space\u001b[39;00m\n\u001b[32m   1861\u001b[39m \n\u001b[32m   (...)\u001b[39m\u001b[32m   1883\u001b[39m \u001b[33;03m        data after applying f\u001b[39;00m\n\u001b[32m   1884\u001b[39m \u001b[33;03m    \"\"\"\u001b[39;00m\n\u001b[32m-> \u001b[39m\u001b[32m1885\u001b[39m     values, mutated = \u001b[38;5;28;43mself\u001b[39;49m\u001b[43m.\u001b[49m\u001b[43m_grouper\u001b[49m\u001b[43m.\u001b[49m\u001b[43mapply_groupwise\u001b[49m\u001b[43m(\u001b[49m\u001b[43mf\u001b[49m\u001b[43m,\u001b[49m\u001b[43m \u001b[49m\u001b[43mdata\u001b[49m\u001b[43m,\u001b[49m\u001b[43m \u001b[49m\u001b[38;5;28;43mself\u001b[39;49m\u001b[43m.\u001b[49m\u001b[43maxis\u001b[49m\u001b[43m)\u001b[49m\n\u001b[32m   1886\u001b[39m     \u001b[38;5;28;01mif\u001b[39;00m not_indexed_same \u001b[38;5;129;01mis\u001b[39;00m \u001b[38;5;28;01mNone\u001b[39;00m:\n\u001b[32m   1887\u001b[39m         not_indexed_same = mutated\n",
      "\u001b[36mFile \u001b[39m\u001b[32mc:\\Users\\bencl\\AppData\\Local\\Programs\\Python\\Python311\\Lib\\site-packages\\pandas\\core\\groupby\\ops.py:919\u001b[39m, in \u001b[36mBaseGrouper.apply_groupwise\u001b[39m\u001b[34m(self, f, data, axis)\u001b[39m\n\u001b[32m    917\u001b[39m \u001b[38;5;66;03m# group might be modified\u001b[39;00m\n\u001b[32m    918\u001b[39m group_axes = group.axes\n\u001b[32m--> \u001b[39m\u001b[32m919\u001b[39m res = \u001b[43mf\u001b[49m\u001b[43m(\u001b[49m\u001b[43mgroup\u001b[49m\u001b[43m)\u001b[49m\n\u001b[32m    920\u001b[39m \u001b[38;5;28;01mif\u001b[39;00m \u001b[38;5;129;01mnot\u001b[39;00m mutated \u001b[38;5;129;01mand\u001b[39;00m \u001b[38;5;129;01mnot\u001b[39;00m _is_indexed_like(res, group_axes, axis):\n\u001b[32m    921\u001b[39m     mutated = \u001b[38;5;28;01mTrue\u001b[39;00m\n",
      "\u001b[36mCell\u001b[39m\u001b[36m \u001b[39m\u001b[32mIn[92]\u001b[39m\u001b[32m, line 26\u001b[39m, in \u001b[36maggregate_deal_data\u001b[39m\u001b[34m(group)\u001b[39m\n\u001b[32m     24\u001b[39m     deal_attrs[\u001b[33m'\u001b[39m\u001b[33mpataActivaFechaPagoAmortizacion\u001b[39m\u001b[33m'\u001b[39m] = active_legs.loc[active_legs[\u001b[33m'\u001b[39m\u001b[33mlegNumber\u001b[39m\u001b[33m'\u001b[39m].idxmin(), \u001b[33m'\u001b[39m\u001b[33mfechaPago\u001b[39m\u001b[33m'\u001b[39m]\n\u001b[32m     25\u001b[39m     \u001b[38;5;66;03m# Sum flujoMonedaPago, handling NaN values\u001b[39;00m\n\u001b[32m---> \u001b[39m\u001b[32m26\u001b[39m     active_flujo_values = \u001b[43mactive_legs\u001b[49m\u001b[43m[\u001b[49m\u001b[33;43m'\u001b[39;49m\u001b[33;43mflujoMonedaPago\u001b[39;49m\u001b[33;43m'\u001b[39;49m\u001b[43m]\u001b[49m.fillna(active_legs[\u001b[33m'\u001b[39m\u001b[33mflujo\u001b[39m\u001b[33m'\u001b[39m])\n\u001b[32m     27\u001b[39m     deal_attrs[\u001b[33m'\u001b[39m\u001b[33mpataActivaFlujo\u001b[39m\u001b[33m'\u001b[39m] = active_flujo_values.sum() \u001b[38;5;28;01mif\u001b[39;00m \u001b[38;5;129;01mnot\u001b[39;00m active_flujo_values.isna().all() \u001b[38;5;28;01melse\u001b[39;00m np.nan\n\u001b[32m     28\u001b[39m \u001b[38;5;28;01melse\u001b[39;00m:\n",
      "\u001b[36mFile \u001b[39m\u001b[32mc:\\Users\\bencl\\AppData\\Local\\Programs\\Python\\Python311\\Lib\\site-packages\\pandas\\core\\frame.py:4102\u001b[39m, in \u001b[36mDataFrame.__getitem__\u001b[39m\u001b[34m(self, key)\u001b[39m\n\u001b[32m   4100\u001b[39m \u001b[38;5;28;01mif\u001b[39;00m \u001b[38;5;28mself\u001b[39m.columns.nlevels > \u001b[32m1\u001b[39m:\n\u001b[32m   4101\u001b[39m     \u001b[38;5;28;01mreturn\u001b[39;00m \u001b[38;5;28mself\u001b[39m._getitem_multilevel(key)\n\u001b[32m-> \u001b[39m\u001b[32m4102\u001b[39m indexer = \u001b[38;5;28;43mself\u001b[39;49m\u001b[43m.\u001b[49m\u001b[43mcolumns\u001b[49m\u001b[43m.\u001b[49m\u001b[43mget_loc\u001b[49m\u001b[43m(\u001b[49m\u001b[43mkey\u001b[49m\u001b[43m)\u001b[49m\n\u001b[32m   4103\u001b[39m \u001b[38;5;28;01mif\u001b[39;00m is_integer(indexer):\n\u001b[32m   4104\u001b[39m     indexer = [indexer]\n",
      "\u001b[36mFile \u001b[39m\u001b[32mc:\\Users\\bencl\\AppData\\Local\\Programs\\Python\\Python311\\Lib\\site-packages\\pandas\\core\\indexes\\base.py:3812\u001b[39m, in \u001b[36mIndex.get_loc\u001b[39m\u001b[34m(self, key)\u001b[39m\n\u001b[32m   3807\u001b[39m     \u001b[38;5;28;01mif\u001b[39;00m \u001b[38;5;28misinstance\u001b[39m(casted_key, \u001b[38;5;28mslice\u001b[39m) \u001b[38;5;129;01mor\u001b[39;00m (\n\u001b[32m   3808\u001b[39m         \u001b[38;5;28misinstance\u001b[39m(casted_key, abc.Iterable)\n\u001b[32m   3809\u001b[39m         \u001b[38;5;129;01mand\u001b[39;00m \u001b[38;5;28many\u001b[39m(\u001b[38;5;28misinstance\u001b[39m(x, \u001b[38;5;28mslice\u001b[39m) \u001b[38;5;28;01mfor\u001b[39;00m x \u001b[38;5;129;01min\u001b[39;00m casted_key)\n\u001b[32m   3810\u001b[39m     ):\n\u001b[32m   3811\u001b[39m         \u001b[38;5;28;01mraise\u001b[39;00m InvalidIndexError(key)\n\u001b[32m-> \u001b[39m\u001b[32m3812\u001b[39m     \u001b[38;5;28;01mraise\u001b[39;00m \u001b[38;5;167;01mKeyError\u001b[39;00m(key) \u001b[38;5;28;01mfrom\u001b[39;00m\u001b[38;5;250m \u001b[39m\u001b[34;01merr\u001b[39;00m\n\u001b[32m   3813\u001b[39m \u001b[38;5;28;01mexcept\u001b[39;00m \u001b[38;5;167;01mTypeError\u001b[39;00m:\n\u001b[32m   3814\u001b[39m     \u001b[38;5;66;03m# If we have a listlike key, _check_indexing_error will raise\u001b[39;00m\n\u001b[32m   3815\u001b[39m     \u001b[38;5;66;03m#  InvalidIndexError. Otherwise we fall through and re-raise\u001b[39;00m\n\u001b[32m   3816\u001b[39m     \u001b[38;5;66;03m#  the TypeError.\u001b[39;00m\n\u001b[32m   3817\u001b[39m     \u001b[38;5;28mself\u001b[39m._check_indexing_error(key)\n",
      "\u001b[31mKeyError\u001b[39m: 'flujoMonedaPago'"
     ]
    }
   ],
   "source": [
    "df_deal_level = df_explained_ok.groupby('dealNumber').apply(aggregate_deal_data).reset_index(drop=True)"
   ]
  },
  {
   "cell_type": "markdown",
   "id": "6e731e20",
   "metadata": {},
   "source": [
    "Aplicar conversiones de nombres de producto"
   ]
  },
  {
   "cell_type": "code",
   "execution_count": null,
   "id": "6147096f",
   "metadata": {},
   "outputs": [],
   "source": [
    "# Apply product name conversions\n",
    "product_mapping = {\n",
    "    'SWAP_ICP': 'Swap Promedio Cámara'.encode('utf-8').decode('utf-8'),\n",
    "    'SWAP_MONE': 'Swap Moneda',\n",
    "    'SWAP_TASA': 'Swap Tasas'\n",
    "}\n",
    "df_deal_level['product'] = df_deal_level['product'].map(product_mapping).fillna(df_deal_level['product'])"
   ]
  },
  {
   "cell_type": "markdown",
   "id": "5c89adc8",
   "metadata": {},
   "source": [
    "Y calcular monto neto a compensar en caso de modalidad compensación"
   ]
  },
  {
   "cell_type": "code",
   "execution_count": null,
   "id": "92418331",
   "metadata": {},
   "outputs": [],
   "source": [
    "df_deal_level['netoACompensar'] = np.nan\n",
    "mask_compensation = df_deal_level['settlementMechanism'] == 'C'\n",
    "\n",
    "df_deal_level.loc[mask_compensation, 'netoACompensar'] = (\n",
    "    df_deal_level.loc[mask_compensation, 'pataActivaFlujo'].fillna(0) + \n",
    "    df_deal_level.loc[mask_compensation, 'pataPasivaFlujo'].fillna(0)\n",
    ")"
   ]
  },
  {
   "cell_type": "markdown",
   "id": "32c45ac3",
   "metadata": {},
   "source": [
    "Y reordenamos las columnas"
   ]
  },
  {
   "cell_type": "code",
   "execution_count": null,
   "id": "1feffda0",
   "metadata": {},
   "outputs": [],
   "source": [
    "# Reorder columns to include the new netoACompensar column\n",
    "column_order = [\n",
    "    'DealNumber', 'product', 'fechaFinal', 'settlementMechanism', 'hedgeAccounting', \n",
    "    'regulatoryPortfolio', 'pataActivaAmortizacion', 'pataActivaMonedaNocional', \n",
    "    'pataActivaFechaPagoAmortizacion', 'pataActivaFlujo', 'pataPasivaAmortizacion',\n",
    "    'pataPasivaMonedaNocional', 'pataPasivaFechaPagoAmortizacion', 'pataPasivaFlujo',\n",
    "    'netoACompensar'\n",
    "]\n",
    "\n",
    "df_deal_level = df_deal_level[column_order]"
   ]
  },
  {
   "cell_type": "markdown",
   "id": "6807895f",
   "metadata": {},
   "source": [
    "Y vemos los resultados:"
   ]
  },
  {
   "cell_type": "code",
   "execution_count": null,
   "id": "da52ff22",
   "metadata": {},
   "outputs": [
    {
     "name": "stdout",
     "output_type": "stream",
     "text": [
      "Deal-level dataframe shape: (6, 15)\n",
      "\n",
      "First few rows:\n",
      "  DealNumber               product  fechaFinal settlementMechanism  \\\n",
      "0       2267  Swap Promedio Cámara  2025-07-10                   C   \n",
      "1       2775           Swap Moneda  2025-07-10                   C   \n",
      "2       5667            Swap Tasas  2025-07-10                   C   \n",
      "3       6231  Swap Promedio Cámara  2025-07-10                   C   \n",
      "4       6232  Swap Promedio Cámara  2025-07-10                   C   \n",
      "\n",
      "  hedgeAccounting                regulatoryPortfolio  pataActivaAmortizacion  \\\n",
      "0              NO                        NEGOCIACION                    0.00   \n",
      "1              NO                        NEGOCIACION                  164.38   \n",
      "2              NO                        NEGOCIACION                    0.00   \n",
      "3              NO  COBERTURA_RIESGO_POSICION_BALANCE                    0.00   \n",
      "4              NO                        NEGOCIACION                    0.00   \n",
      "\n",
      "  pataActivaMonedaNocional pataActivaFechaPagoAmortizacion  pataActivaFlujo  \\\n",
      "0                      CLP                      2025-07-11     8.649789e+07   \n",
      "1                      CLF                      2025-07-10     7.684415e+06   \n",
      "2                      USD                      2025-07-10     1.393083e+05   \n",
      "3                      CLP                      2025-07-11     4.452097e+07   \n",
      "4                      CLP                      2025-07-11     2.437467e+08   \n",
      "\n",
      "   pataPasivaAmortizacion pataPasivaMonedaNocional  \\\n",
      "0                     0.0                      CLP   \n",
      "1              -4693215.0                      CLP   \n",
      "2                     0.0                      USD   \n",
      "3                     0.0                      CLP   \n",
      "4                     0.0                      CLP   \n",
      "\n",
      "  pataPasivaFechaPagoAmortizacion  pataPasivaFlujo  netoACompensar  \n",
      "0                      2025-07-11    -6.914703e+07    1.735086e+07  \n",
      "1                      2025-07-10    -6.808838e+06    8.755774e+05  \n",
      "2                      2025-07-10    -1.440640e+05   -4.755634e+03  \n",
      "3                      2025-07-11    -4.390507e+07    6.159026e+05  \n",
      "4                      2025-07-11    -2.442293e+08   -4.826663e+05  \n",
      "\n",
      "Dataframe info:\n",
      "<class 'pandas.core.frame.DataFrame'>\n",
      "RangeIndex: 6 entries, 0 to 5\n",
      "Data columns (total 15 columns):\n",
      " #   Column                           Non-Null Count  Dtype  \n",
      "---  ------                           --------------  -----  \n",
      " 0   DealNumber                       6 non-null      object \n",
      " 1   product                          6 non-null      object \n",
      " 2   fechaFinal                       6 non-null      object \n",
      " 3   settlementMechanism              6 non-null      object \n",
      " 4   hedgeAccounting                  6 non-null      object \n",
      " 5   regulatoryPortfolio              6 non-null      object \n",
      " 6   pataActivaAmortizacion           6 non-null      float64\n",
      " 7   pataActivaMonedaNocional         6 non-null      object \n",
      " 8   pataActivaFechaPagoAmortizacion  6 non-null      object \n",
      " 9   pataActivaFlujo                  6 non-null      float64\n",
      " 10  pataPasivaAmortizacion           6 non-null      float64\n",
      " 11  pataPasivaMonedaNocional         6 non-null      object \n",
      " 12  pataPasivaFechaPagoAmortizacion  6 non-null      object \n",
      " 13  pataPasivaFlujo                  6 non-null      float64\n",
      " 14  netoACompensar                   6 non-null      float64\n",
      "dtypes: float64(5), object(10)\n",
      "memory usage: 852.0+ bytes\n",
      "None\n",
      "\n",
      "Sample of deal-level data:\n",
      "  DealNumber               product  fechaFinal settlementMechanism  \\\n",
      "0       2267  Swap Promedio Cámara  2025-07-10                   C   \n",
      "1       2775           Swap Moneda  2025-07-10                   C   \n",
      "2       5667            Swap Tasas  2025-07-10                   C   \n",
      "3       6231  Swap Promedio Cámara  2025-07-10                   C   \n",
      "4       6232  Swap Promedio Cámara  2025-07-10                   C   \n",
      "5       6233  Swap Promedio Cámara  2025-07-10                   C   \n",
      "\n",
      "  hedgeAccounting                regulatoryPortfolio  pataActivaAmortizacion  \\\n",
      "0              NO                        NEGOCIACION                    0.00   \n",
      "1              NO                        NEGOCIACION                  164.38   \n",
      "2              NO                        NEGOCIACION                    0.00   \n",
      "3              NO  COBERTURA_RIESGO_POSICION_BALANCE                    0.00   \n",
      "4              NO                        NEGOCIACION                    0.00   \n",
      "5              NO                        NEGOCIACION                    0.00   \n",
      "\n",
      "  pataActivaMonedaNocional pataActivaFechaPagoAmortizacion  pataActivaFlujo  \\\n",
      "0                      CLP                      2025-07-11     8.649789e+07   \n",
      "1                      CLF                      2025-07-10     7.684415e+06   \n",
      "2                      USD                      2025-07-10     1.393083e+05   \n",
      "3                      CLP                      2025-07-11     4.452097e+07   \n",
      "4                      CLP                      2025-07-11     2.437467e+08   \n",
      "5                      CLP                      2025-07-11     2.442293e+08   \n",
      "\n",
      "   pataPasivaAmortizacion pataPasivaMonedaNocional  \\\n",
      "0                     0.0                      CLP   \n",
      "1              -4693215.0                      CLP   \n",
      "2                     0.0                      USD   \n",
      "3                     0.0                      CLP   \n",
      "4                     0.0                      CLP   \n",
      "5                     0.0                      CLP   \n",
      "\n",
      "  pataPasivaFechaPagoAmortizacion  pataPasivaFlujo  netoACompensar  \n",
      "0                      2025-07-11    -6.914703e+07    1.735086e+07  \n",
      "1                      2025-07-10    -6.808838e+06    8.755774e+05  \n",
      "2                      2025-07-10    -1.440640e+05   -4.755634e+03  \n",
      "3                      2025-07-11    -4.390507e+07    6.159026e+05  \n",
      "4                      2025-07-11    -2.442293e+08   -4.826663e+05  \n",
      "5                      2025-07-11    -2.437467e+08    4.826663e+05  \n"
     ]
    }
   ],
   "source": [
    "print(\"Deal-level dataframe shape:\", df_deal_level.shape)\n",
    "print(\"\\nFirst few rows:\")\n",
    "print(df_deal_level.head())\n",
    "\n",
    "print(\"\\nDataframe info:\")\n",
    "print(df_deal_level.info())\n",
    "\n",
    "print(\"\\nSample of deal-level data:\")\n",
    "print(df_deal_level.head(10))"
   ]
  },
  {
   "cell_type": "code",
   "execution_count": null,
   "id": "53b52fea",
   "metadata": {},
   "outputs": [
    {
     "data": {
      "text/html": [
       "<div>\n",
       "<style scoped>\n",
       "    .dataframe tbody tr th:only-of-type {\n",
       "        vertical-align: middle;\n",
       "    }\n",
       "\n",
       "    .dataframe tbody tr th {\n",
       "        vertical-align: top;\n",
       "    }\n",
       "\n",
       "    .dataframe thead th {\n",
       "        text-align: right;\n",
       "    }\n",
       "</style>\n",
       "<table border=\"1\" class=\"dataframe\">\n",
       "  <thead>\n",
       "    <tr style=\"text-align: right;\">\n",
       "      <th></th>\n",
       "      <th>DealNumber</th>\n",
       "      <th>product</th>\n",
       "      <th>fechaFinal</th>\n",
       "      <th>settlementMechanism</th>\n",
       "      <th>hedgeAccounting</th>\n",
       "      <th>regulatoryPortfolio</th>\n",
       "      <th>pataActivaAmortizacion</th>\n",
       "      <th>pataActivaMonedaNocional</th>\n",
       "      <th>pataActivaFechaPagoAmortizacion</th>\n",
       "      <th>pataActivaFlujo</th>\n",
       "      <th>pataPasivaAmortizacion</th>\n",
       "      <th>pataPasivaMonedaNocional</th>\n",
       "      <th>pataPasivaFechaPagoAmortizacion</th>\n",
       "      <th>pataPasivaFlujo</th>\n",
       "      <th>netoACompensar</th>\n",
       "    </tr>\n",
       "  </thead>\n",
       "  <tbody>\n",
       "    <tr>\n",
       "      <th>0</th>\n",
       "      <td>2267</td>\n",
       "      <td>Swap Promedio Cámara</td>\n",
       "      <td>2025-07-10</td>\n",
       "      <td>C</td>\n",
       "      <td>NO</td>\n",
       "      <td>NEGOCIACION</td>\n",
       "      <td>0.00</td>\n",
       "      <td>CLP</td>\n",
       "      <td>2025-07-11</td>\n",
       "      <td>8.649789e+07</td>\n",
       "      <td>0.0</td>\n",
       "      <td>CLP</td>\n",
       "      <td>2025-07-11</td>\n",
       "      <td>-6.914703e+07</td>\n",
       "      <td>1.735086e+07</td>\n",
       "    </tr>\n",
       "    <tr>\n",
       "      <th>1</th>\n",
       "      <td>2775</td>\n",
       "      <td>Swap Moneda</td>\n",
       "      <td>2025-07-10</td>\n",
       "      <td>C</td>\n",
       "      <td>NO</td>\n",
       "      <td>NEGOCIACION</td>\n",
       "      <td>164.38</td>\n",
       "      <td>CLF</td>\n",
       "      <td>2025-07-10</td>\n",
       "      <td>7.684415e+06</td>\n",
       "      <td>-4693215.0</td>\n",
       "      <td>CLP</td>\n",
       "      <td>2025-07-10</td>\n",
       "      <td>-6.808838e+06</td>\n",
       "      <td>8.755774e+05</td>\n",
       "    </tr>\n",
       "    <tr>\n",
       "      <th>2</th>\n",
       "      <td>5667</td>\n",
       "      <td>Swap Tasas</td>\n",
       "      <td>2025-07-10</td>\n",
       "      <td>C</td>\n",
       "      <td>NO</td>\n",
       "      <td>NEGOCIACION</td>\n",
       "      <td>0.00</td>\n",
       "      <td>USD</td>\n",
       "      <td>2025-07-10</td>\n",
       "      <td>1.393083e+05</td>\n",
       "      <td>0.0</td>\n",
       "      <td>USD</td>\n",
       "      <td>2025-07-10</td>\n",
       "      <td>-1.440640e+05</td>\n",
       "      <td>-4.755634e+03</td>\n",
       "    </tr>\n",
       "    <tr>\n",
       "      <th>3</th>\n",
       "      <td>6231</td>\n",
       "      <td>Swap Promedio Cámara</td>\n",
       "      <td>2025-07-10</td>\n",
       "      <td>C</td>\n",
       "      <td>NO</td>\n",
       "      <td>COBERTURA_RIESGO_POSICION_BALANCE</td>\n",
       "      <td>0.00</td>\n",
       "      <td>CLP</td>\n",
       "      <td>2025-07-11</td>\n",
       "      <td>4.452097e+07</td>\n",
       "      <td>0.0</td>\n",
       "      <td>CLP</td>\n",
       "      <td>2025-07-11</td>\n",
       "      <td>-4.390507e+07</td>\n",
       "      <td>6.159026e+05</td>\n",
       "    </tr>\n",
       "    <tr>\n",
       "      <th>4</th>\n",
       "      <td>6232</td>\n",
       "      <td>Swap Promedio Cámara</td>\n",
       "      <td>2025-07-10</td>\n",
       "      <td>C</td>\n",
       "      <td>NO</td>\n",
       "      <td>NEGOCIACION</td>\n",
       "      <td>0.00</td>\n",
       "      <td>CLP</td>\n",
       "      <td>2025-07-11</td>\n",
       "      <td>2.437467e+08</td>\n",
       "      <td>0.0</td>\n",
       "      <td>CLP</td>\n",
       "      <td>2025-07-11</td>\n",
       "      <td>-2.442293e+08</td>\n",
       "      <td>-4.826663e+05</td>\n",
       "    </tr>\n",
       "    <tr>\n",
       "      <th>5</th>\n",
       "      <td>6233</td>\n",
       "      <td>Swap Promedio Cámara</td>\n",
       "      <td>2025-07-10</td>\n",
       "      <td>C</td>\n",
       "      <td>NO</td>\n",
       "      <td>NEGOCIACION</td>\n",
       "      <td>0.00</td>\n",
       "      <td>CLP</td>\n",
       "      <td>2025-07-11</td>\n",
       "      <td>2.442293e+08</td>\n",
       "      <td>0.0</td>\n",
       "      <td>CLP</td>\n",
       "      <td>2025-07-11</td>\n",
       "      <td>-2.437467e+08</td>\n",
       "      <td>4.826663e+05</td>\n",
       "    </tr>\n",
       "  </tbody>\n",
       "</table>\n",
       "</div>"
      ],
      "text/plain": [
       "  DealNumber               product  fechaFinal settlementMechanism  \\\n",
       "0       2267  Swap Promedio Cámara  2025-07-10                   C   \n",
       "1       2775           Swap Moneda  2025-07-10                   C   \n",
       "2       5667            Swap Tasas  2025-07-10                   C   \n",
       "3       6231  Swap Promedio Cámara  2025-07-10                   C   \n",
       "4       6232  Swap Promedio Cámara  2025-07-10                   C   \n",
       "5       6233  Swap Promedio Cámara  2025-07-10                   C   \n",
       "\n",
       "  hedgeAccounting                regulatoryPortfolio  pataActivaAmortizacion  \\\n",
       "0              NO                        NEGOCIACION                    0.00   \n",
       "1              NO                        NEGOCIACION                  164.38   \n",
       "2              NO                        NEGOCIACION                    0.00   \n",
       "3              NO  COBERTURA_RIESGO_POSICION_BALANCE                    0.00   \n",
       "4              NO                        NEGOCIACION                    0.00   \n",
       "5              NO                        NEGOCIACION                    0.00   \n",
       "\n",
       "  pataActivaMonedaNocional pataActivaFechaPagoAmortizacion  pataActivaFlujo  \\\n",
       "0                      CLP                      2025-07-11     8.649789e+07   \n",
       "1                      CLF                      2025-07-10     7.684415e+06   \n",
       "2                      USD                      2025-07-10     1.393083e+05   \n",
       "3                      CLP                      2025-07-11     4.452097e+07   \n",
       "4                      CLP                      2025-07-11     2.437467e+08   \n",
       "5                      CLP                      2025-07-11     2.442293e+08   \n",
       "\n",
       "   pataPasivaAmortizacion pataPasivaMonedaNocional  \\\n",
       "0                     0.0                      CLP   \n",
       "1              -4693215.0                      CLP   \n",
       "2                     0.0                      USD   \n",
       "3                     0.0                      CLP   \n",
       "4                     0.0                      CLP   \n",
       "5                     0.0                      CLP   \n",
       "\n",
       "  pataPasivaFechaPagoAmortizacion  pataPasivaFlujo  netoACompensar  \n",
       "0                      2025-07-11    -6.914703e+07    1.735086e+07  \n",
       "1                      2025-07-10    -6.808838e+06    8.755774e+05  \n",
       "2                      2025-07-10    -1.440640e+05   -4.755634e+03  \n",
       "3                      2025-07-11    -4.390507e+07    6.159026e+05  \n",
       "4                      2025-07-11    -2.442293e+08   -4.826663e+05  \n",
       "5                      2025-07-11    -2.437467e+08    4.826663e+05  "
      ]
     },
     "execution_count": 45,
     "metadata": {},
     "output_type": "execute_result"
    }
   ],
   "source": [
    "df_deal_level"
   ]
  },
  {
   "cell_type": "code",
   "execution_count": null,
   "id": "65921d93",
   "metadata": {},
   "outputs": [],
   "source": [
    "#df_deal_level.to_csv(f\"./{f_proc}_deal_level.csv\", index=False, encoding='utf-8')\n",
    "#df_deal_level.to_excel(f\"./{f_proc}_deal_level.xlsx\", index=False)\n",
    "df_deal_level.to_excel(rf\"C:\\Users\\bencl\\OneDrive - palace.cl\\Documents\\Palace\\Banco Internacional\\Treasury PM\\06 Pruebas\\{f_proc}_deal_level.xlsx\", index=False)\n"
   ]
  }
 ],
 "metadata": {
  "kernelspec": {
   "display_name": "Python 3",
   "language": "python",
   "name": "python3"
  },
  "language_info": {
   "codemirror_mode": {
    "name": "ipython",
    "version": 3
   },
   "file_extension": ".py",
   "mimetype": "text/x-python",
   "name": "python",
   "nbconvert_exporter": "python",
   "pygments_lexer": "ipython3",
   "version": "3.11.9"
  }
 },
 "nbformat": 4,
 "nbformat_minor": 5
}
